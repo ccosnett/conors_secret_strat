{
 "cells": [
  {
   "cell_type": "code",
   "execution_count": 1,
   "metadata": {},
   "outputs": [
    {
     "name": "stdout",
     "output_type": "stream",
     "text": [
      "\u001b[32mrun_length = 10:00:00\u001b[0m\n",
      "\u001b[36mbackendtype = forked\u001b[0m\n",
      "\u001b[32minitial_portfolio = {'USDC': Decimal('50000'), 'WETH': Decimal('25'), 'PEPE': Decimal('1000000000')}\u001b[0m\n",
      "\u001b[36magents initial portfolio = {'USDC': Decimal('50000'), 'WETH': Decimal('25'), 'PEPE': Decimal('1000000000'), 'ETH': Decimal('10')}\u001b[0m\n",
      "\u001b[36magents_name = gary the agent\u001b[0m\n",
      "\u001b[93mhere\u001b[0m\n"
     ]
    },
    {
     "name": "stderr",
     "output_type": "stream",
     "text": [
      "/Users/johncosnett/compass_labs/conors_secret_strat/.venv/lib/python3.12/site-packages/joblib/memory.py:577: JobLibCollisionWarning: Cannot detect name collisions for function '_load_data_for_pools'\n",
      "  return self._cached_call(args, kwargs, shelving=False)[0]\n"
     ]
    },
    {
     "name": "stdout",
     "output_type": "stream",
     "text": [
      "initial_portfolio: {'USDC': Decimal('50000'), 'WETH': Decimal('25'), 'PEPE': Decimal('1000000000'), 'ETH': Decimal('10')}\n",
      "here\n"
     ]
    },
    {
     "ename": "ValueError",
     "evalue": "tuple.index(x): x not in tuple",
     "output_type": "error",
     "traceback": [
      "\u001b[0;31m---------------------------------------------------------------------------\u001b[0m",
      "\u001b[0;31mValueError\u001b[0m                                Traceback (most recent call last)",
      "Cell \u001b[0;32mIn[1], line 20\u001b[0m\n\u001b[1;32m     18\u001b[0m policy \u001b[38;5;241m=\u001b[39m SingleAction(agent1)\n\u001b[1;32m     19\u001b[0m env \u001b[38;5;241m=\u001b[39m UniswapV3Env(chain, agents, date_range, pools, market_impact, backend_type)\n\u001b[0;32m---> 20\u001b[0m \u001b[43mbacktest_run\u001b[49m\u001b[43m(\u001b[49m\n\u001b[1;32m     21\u001b[0m \u001b[43m    \u001b[49m\u001b[43menv\u001b[49m\u001b[38;5;241;43m=\u001b[39;49m\u001b[43menv\u001b[49m\u001b[43m,\u001b[49m\n\u001b[1;32m     22\u001b[0m \u001b[43m    \u001b[49m\u001b[43mpolicies\u001b[49m\u001b[38;5;241;43m=\u001b[39;49m\u001b[43m[\u001b[49m\u001b[43mpolicy\u001b[49m\u001b[43m]\u001b[49m\u001b[43m,\u001b[49m\n\u001b[1;32m     23\u001b[0m \u001b[43m    \u001b[49m\u001b[43mdashboard_server_port\u001b[49m\u001b[38;5;241;43m=\u001b[39;49m\u001b[38;5;241;43m6666\u001b[39;49m\u001b[43m,\u001b[49m\n\u001b[1;32m     24\u001b[0m \u001b[43m    \u001b[49m\u001b[43moutput_file\u001b[49m\u001b[38;5;241;43m=\u001b[39;49m\u001b[38;5;124;43m\"\u001b[39;49m\u001b[38;5;124;43minflation.db\u001b[39;49m\u001b[38;5;124;43m\"\u001b[39;49m\u001b[43m,\u001b[49m\n\u001b[1;32m     25\u001b[0m \u001b[43m    \u001b[49m\u001b[43mauto_close\u001b[49m\u001b[38;5;241;43m=\u001b[39;49m\u001b[38;5;28;43;01mTrue\u001b[39;49;00m\u001b[43m,\u001b[49m\n\u001b[1;32m     26\u001b[0m \u001b[43m    \u001b[49m\u001b[43msimulation_status_bar\u001b[49m\u001b[38;5;241;43m=\u001b[39;49m\u001b[38;5;28;43;01mTrue\u001b[39;49;00m\u001b[43m,\u001b[49m\n\u001b[1;32m     27\u001b[0m \u001b[43m    \u001b[49m\u001b[43msimulation_title\u001b[49m\u001b[38;5;241;43m=\u001b[39;49m\u001b[38;5;124;43m\"\u001b[39;49m\u001b[38;5;124;43mconors_secret_inflation_busting_policy\u001b[39;49m\u001b[38;5;124;43m\"\u001b[39;49m\u001b[43m,\u001b[49m\n\u001b[1;32m     28\u001b[0m \u001b[43m    \u001b[49m\u001b[43msimulation_description\u001b[49m\u001b[38;5;241;43m=\u001b[39;49m\u001b[38;5;124;43m\"\u001b[39;49m\u001b[38;5;124;43mthe secret to not loosing money.\u001b[39;49m\u001b[38;5;124;43m\"\u001b[39;49m\u001b[43m,\u001b[49m\n\u001b[1;32m     29\u001b[0m \u001b[43m    \u001b[49m\u001b[43m)\u001b[49m\n\u001b[1;32m     30\u001b[0m end_t \u001b[38;5;241m=\u001b[39m time\u001b[38;5;241m.\u001b[39mtime()\n\u001b[1;32m     31\u001b[0m echo_yellow(end_t \u001b[38;5;241m-\u001b[39m start_t,\u001b[38;5;124m\"\u001b[39m\u001b[38;5;124mabsolute time\u001b[39m\u001b[38;5;124m\"\u001b[39m)\n",
      "File \u001b[0;32mdojo/runners/backtest_runner.py:59\u001b[0m, in \u001b[0;36mdojo.runners.backtest_runner.backtest_run\u001b[0;34m()\u001b[0m\n",
      "File \u001b[0;32mdojo/environments/base_environments.py:257\u001b[0m, in \u001b[0;36mdojo.environments.base_environments.BaseEnvironment.reset\u001b[0;34m()\u001b[0m\n",
      "File \u001b[0;32m~/compass_labs/conors_secret_strat/agent.py:70\u001b[0m, in \u001b[0;36mUniswapV3PoolWealthAgent.reward\u001b[0;34m(self, obs)\u001b[0m\n\u001b[1;32m     68\u001b[0m echo(\u001b[38;5;28mself\u001b[39m\u001b[38;5;241m.\u001b[39minitial_portfolio,\u001b[38;5;124m\"\u001b[39m\u001b[38;5;124minitial_portfolio\u001b[39m\u001b[38;5;124m\"\u001b[39m)\n\u001b[1;32m     69\u001b[0m echo(\u001b[38;5;124m'\u001b[39m\u001b[38;5;124mhere\u001b[39m\u001b[38;5;124m'\u001b[39m)\n\u001b[0;32m---> 70\u001b[0m init_w \u001b[38;5;241m=\u001b[39m \u001b[43minitial_agent_wealth\u001b[49m\u001b[43m(\u001b[49m\u001b[43mobs\u001b[49m\u001b[43m,\u001b[49m\u001b[43m \u001b[49m\u001b[38;5;28;43mself\u001b[39;49m\u001b[38;5;241;43m.\u001b[39;49m\u001b[43minitial_portfolio\u001b[49m\u001b[43m)\u001b[49m\n\u001b[1;32m     71\u001b[0m echo(\u001b[38;5;124m'\u001b[39m\u001b[38;5;124mb\u001b[39m\u001b[38;5;124m'\u001b[39m)\n\u001b[1;32m     72\u001b[0m current_w_HODL \u001b[38;5;241m=\u001b[39m HODL_agent_wealth(obs, \u001b[38;5;28mself\u001b[39m\u001b[38;5;241m.\u001b[39minitial_portfolio)\n",
      "File \u001b[0;32m~/compass_labs/conors_secret_strat/metrics.py:17\u001b[0m, in \u001b[0;36minitial_agent_wealth\u001b[0;34m(obs, initial_portfolio)\u001b[0m\n\u001b[1;32m     15\u001b[0m \u001b[38;5;28;01mdef\u001b[39;00m \u001b[38;5;21minitial_agent_wealth\u001b[39m(obs, initial_portfolio):\n\u001b[1;32m     16\u001b[0m         \u001b[38;5;28;01mif\u001b[39;00m obs\u001b[38;5;241m.\u001b[39mblock \u001b[38;5;241m==\u001b[39m \u001b[38;5;241m20129224\u001b[39m:\n\u001b[0;32m---> 17\u001b[0m             init_w \u001b[38;5;241m=\u001b[39m \u001b[43mHODL_agent_wealth\u001b[49m\u001b[43m(\u001b[49m\u001b[43mobs\u001b[49m\u001b[43m,\u001b[49m\u001b[43m \u001b[49m\u001b[43minitial_portfolio\u001b[49m\u001b[43m)\u001b[49m\n\u001b[1;32m     19\u001b[0m             \u001b[38;5;28;01mglobal\u001b[39;00m welt\n\u001b[1;32m     20\u001b[0m             welt \u001b[38;5;241m=\u001b[39m init_w\n",
      "File \u001b[0;32m~/compass_labs/conors_secret_strat/metrics.py:72\u001b[0m, in \u001b[0;36mHODL_agent_wealth\u001b[0;34m(obs, initial_portfolio)\u001b[0m\n\u001b[1;32m     69\u001b[0m     w \u001b[38;5;241m=\u001b[39m Decimal(\u001b[38;5;241m0\u001b[39m)\n\u001b[1;32m     70\u001b[0m     \u001b[38;5;28;01mfor\u001b[39;00m token, quantity \u001b[38;5;129;01min\u001b[39;00m itemz:\n\u001b[1;32m     71\u001b[0m \u001b[38;5;66;03m#            echo_yellow([token, quantity],\"token,quant\")\u001b[39;00m\n\u001b[0;32m---> 72\u001b[0m         w \u001b[38;5;241m=\u001b[39m w \u001b[38;5;241m+\u001b[39m quantity \u001b[38;5;241m*\u001b[39m \u001b[43mobs\u001b[49m\u001b[38;5;241;43m.\u001b[39;49m\u001b[43mprice\u001b[49m\u001b[43m(\u001b[49m\u001b[43mtoken\u001b[49m\u001b[38;5;241;43m=\u001b[39;49m\u001b[43mtoken\u001b[49m\u001b[43m,\u001b[49m\u001b[43m \u001b[49m\u001b[43munit\u001b[49m\u001b[38;5;241;43m=\u001b[39;49m\u001b[43mpool_tokens\u001b[49m\u001b[43m[\u001b[49m\u001b[38;5;241;43m0\u001b[39;49m\u001b[43m]\u001b[49m\u001b[43m,\u001b[49m\u001b[43m \u001b[49m\u001b[43mpool\u001b[49m\u001b[38;5;241;43m=\u001b[39;49m\u001b[43mpool\u001b[49m\u001b[43m)\u001b[49m\n\u001b[1;32m     74\u001b[0m     out \u001b[38;5;241m=\u001b[39m w\n\u001b[1;32m     76\u001b[0m     \u001b[38;5;28;01mreturn\u001b[39;00m out\n",
      "File \u001b[0;32mdojo/observations/uniswapV3.py:885\u001b[0m, in \u001b[0;36mdojo.observations.uniswapV3.UniswapV3Observation.price\u001b[0;34m()\u001b[0m\n",
      "\u001b[0;31mValueError\u001b[0m: tuple.index(x): x not in tuple"
     ]
    }
   ],
   "source": [
    "from imports import *\n",
    "from helpers import *\n",
    "from metrics import *\n",
    "from constants import *\n",
    "from agent import *\n",
    "from conors_secret_strategy import SingleAction #as strat\n",
    "from actions import buy\n",
    "import time\n",
    "\n",
    "\n",
    "start_t = time.time()\n",
    "run_length = timedelta(hours=0.05) \n",
    "portfolio0 = {\"USDC\": Decimal(50_000), \"WETH\": Decimal(25),\"PEPE\":Decimal(1_000_000_000)}  #, \"PEPE\":1_000_000_000} #\"ETH\": Decimal(100), #\"WBTC\" : Decimal(1),#\"PEPE\" : Decimal(1_000_000_000),}\n",
    "echo_green(portfolio0,\"initial_portfolio\")\n",
    "date_range=(start_time, end_time)\n",
    "agents = [UniswapV3PoolWealthAgent(portfolio0,\"gary the agent\")]\n",
    "agent1 = agents[0]\n",
    "policy = SingleAction(agent1)\n",
    "env = UniswapV3Env(chain, agents, date_range, pools, market_impact, backend_type)\n",
    "backtest_run(\n",
    "    env=env,\n",
    "    policies=[policy],\n",
    "    dashboard_server_port=6666,\n",
    "    output_file=\"inflation.db\",\n",
    "    auto_close=True,\n",
    "    simulation_status_bar=True,\n",
    "    simulation_title=\"conors_secret_inflation_busting_policy\",\n",
    "    simulation_description=\"the secret to not loosing money.\",\n",
    "    )\n",
    "end_t = time.time()\n",
    "echo_yellow(end_t - start_t,\"absolute time\")"
   ]
  },
  {
   "cell_type": "code",
   "execution_count": 2,
   "metadata": {},
   "outputs": [
    {
     "data": {
      "text/plain": [
       "Decimal('3559.03464282396544495004572980007711309989395550696332678014349016399782019583')"
      ]
     },
     "execution_count": 2,
     "metadata": {},
     "output_type": "execute_result"
    }
   ],
   "source": [
    "env.obs.price(token='WETH',unit =  'USDC',pool=pool0)"
   ]
  },
  {
   "cell_type": "code",
   "execution_count": 2,
   "metadata": {},
   "outputs": [
    {
     "name": "stdout",
     "output_type": "stream",
     "text": [
      "initial_portfolio: {'USDC': Decimal('50000'), 'WETH': Decimal('25'), 'PEPE': Decimal('1000000000')}\n",
      "here\n"
     ]
    },
    {
     "ename": "ValueError",
     "evalue": "tuple.index(x): x not in tuple",
     "output_type": "error",
     "traceback": [
      "\u001b[0;31m---------------------------------------------------------------------------\u001b[0m",
      "\u001b[0;31mValueError\u001b[0m                                Traceback (most recent call last)",
      "Cell \u001b[0;32mIn[2], line 1\u001b[0m\n\u001b[0;32m----> 1\u001b[0m \u001b[43mbacktest_run\u001b[49m\u001b[43m(\u001b[49m\n\u001b[1;32m      2\u001b[0m \u001b[43m    \u001b[49m\u001b[43menv\u001b[49m\u001b[38;5;241;43m=\u001b[39;49m\u001b[43menv\u001b[49m\u001b[43m,\u001b[49m\n\u001b[1;32m      3\u001b[0m \u001b[43m    \u001b[49m\u001b[43mpolicies\u001b[49m\u001b[38;5;241;43m=\u001b[39;49m\u001b[43m[\u001b[49m\u001b[43mpolicy\u001b[49m\u001b[43m]\u001b[49m\u001b[43m,\u001b[49m\n\u001b[1;32m      4\u001b[0m \u001b[43m    \u001b[49m\u001b[43mdashboard_server_port\u001b[49m\u001b[38;5;241;43m=\u001b[39;49m\u001b[38;5;241;43m6666\u001b[39;49m\u001b[43m,\u001b[49m\n\u001b[1;32m      5\u001b[0m \u001b[43m    \u001b[49m\u001b[43moutput_file\u001b[49m\u001b[38;5;241;43m=\u001b[39;49m\u001b[38;5;124;43m\"\u001b[39;49m\u001b[38;5;124;43minflation.db\u001b[39;49m\u001b[38;5;124;43m\"\u001b[39;49m\u001b[43m,\u001b[49m\n\u001b[1;32m      6\u001b[0m \u001b[43m    \u001b[49m\u001b[43mauto_close\u001b[49m\u001b[38;5;241;43m=\u001b[39;49m\u001b[38;5;28;43;01mTrue\u001b[39;49;00m\u001b[43m,\u001b[49m\n\u001b[1;32m      7\u001b[0m \u001b[43m    \u001b[49m\u001b[43msimulation_status_bar\u001b[49m\u001b[38;5;241;43m=\u001b[39;49m\u001b[38;5;28;43;01mTrue\u001b[39;49;00m\u001b[43m,\u001b[49m\n\u001b[1;32m      8\u001b[0m \u001b[43m    \u001b[49m\u001b[43msimulation_title\u001b[49m\u001b[38;5;241;43m=\u001b[39;49m\u001b[38;5;124;43m\"\u001b[39;49m\u001b[38;5;124;43mconors_secret_inflation_busting_policy\u001b[39;49m\u001b[38;5;124;43m\"\u001b[39;49m\u001b[43m,\u001b[49m\n\u001b[1;32m      9\u001b[0m \u001b[43m    \u001b[49m\u001b[43msimulation_description\u001b[49m\u001b[38;5;241;43m=\u001b[39;49m\u001b[38;5;124;43m\"\u001b[39;49m\u001b[38;5;124;43mthe secret to not loosing money.\u001b[39;49m\u001b[38;5;124;43m\"\u001b[39;49m\u001b[43m,\u001b[49m\n\u001b[1;32m     10\u001b[0m \u001b[43m    \u001b[49m\u001b[43m)\u001b[49m\n",
      "File \u001b[0;32mdojo/runners/backtest_runner.py:59\u001b[0m, in \u001b[0;36mdojo.runners.backtest_runner.backtest_run\u001b[0;34m()\u001b[0m\n",
      "File \u001b[0;32mdojo/environments/base_environments.py:257\u001b[0m, in \u001b[0;36mdojo.environments.base_environments.BaseEnvironment.reset\u001b[0;34m()\u001b[0m\n",
      "File \u001b[0;32m~/compass_labs/conors_secret_strat/agent.py:70\u001b[0m, in \u001b[0;36mUniswapV3PoolWealthAgent.reward\u001b[0;34m(self, obs)\u001b[0m\n\u001b[1;32m     68\u001b[0m echo(\u001b[38;5;28mself\u001b[39m\u001b[38;5;241m.\u001b[39minitial_portfolio,\u001b[38;5;124m\"\u001b[39m\u001b[38;5;124minitial_portfolio\u001b[39m\u001b[38;5;124m\"\u001b[39m)\n\u001b[1;32m     69\u001b[0m echo(\u001b[38;5;124m'\u001b[39m\u001b[38;5;124mhere\u001b[39m\u001b[38;5;124m'\u001b[39m)\n\u001b[0;32m---> 70\u001b[0m init_w \u001b[38;5;241m=\u001b[39m \u001b[43minitial_agent_wealth\u001b[49m\u001b[43m(\u001b[49m\u001b[43mobs\u001b[49m\u001b[43m,\u001b[49m\u001b[43m \u001b[49m\u001b[38;5;28;43mself\u001b[39;49m\u001b[38;5;241;43m.\u001b[39;49m\u001b[43minitial_portfolio\u001b[49m\u001b[43m)\u001b[49m\n\u001b[1;32m     71\u001b[0m echo(\u001b[38;5;124m'\u001b[39m\u001b[38;5;124mb\u001b[39m\u001b[38;5;124m'\u001b[39m)\n\u001b[1;32m     72\u001b[0m current_w_HODL \u001b[38;5;241m=\u001b[39m HODL_agent_wealth(obs, \u001b[38;5;28mself\u001b[39m\u001b[38;5;241m.\u001b[39minitial_portfolio)\n",
      "File \u001b[0;32m~/compass_labs/conors_secret_strat/metrics.py:17\u001b[0m, in \u001b[0;36minitial_agent_wealth\u001b[0;34m(obs, initial_portfolio)\u001b[0m\n\u001b[1;32m     15\u001b[0m \u001b[38;5;28;01mdef\u001b[39;00m \u001b[38;5;21minitial_agent_wealth\u001b[39m(obs, initial_portfolio):\n\u001b[1;32m     16\u001b[0m         \u001b[38;5;28;01mif\u001b[39;00m obs\u001b[38;5;241m.\u001b[39mblock \u001b[38;5;241m==\u001b[39m \u001b[38;5;241m20129224\u001b[39m:\n\u001b[0;32m---> 17\u001b[0m             init_w \u001b[38;5;241m=\u001b[39m \u001b[43mHODL_agent_wealth\u001b[49m\u001b[43m(\u001b[49m\u001b[43mobs\u001b[49m\u001b[43m,\u001b[49m\u001b[43m \u001b[49m\u001b[43minitial_portfolio\u001b[49m\u001b[43m)\u001b[49m\n\u001b[1;32m     19\u001b[0m             \u001b[38;5;28;01mglobal\u001b[39;00m welt\n\u001b[1;32m     20\u001b[0m             welt \u001b[38;5;241m=\u001b[39m init_w\n",
      "File \u001b[0;32m~/compass_labs/conors_secret_strat/metrics.py:72\u001b[0m, in \u001b[0;36mHODL_agent_wealth\u001b[0;34m(obs, initial_portfolio)\u001b[0m\n\u001b[1;32m     69\u001b[0m     w \u001b[38;5;241m=\u001b[39m Decimal(\u001b[38;5;241m0\u001b[39m)\n\u001b[1;32m     70\u001b[0m     \u001b[38;5;28;01mfor\u001b[39;00m token, quantity \u001b[38;5;129;01min\u001b[39;00m itemz:\n\u001b[1;32m     71\u001b[0m \u001b[38;5;66;03m#            echo_yellow([token, quantity],\"token,quant\")\u001b[39;00m\n\u001b[0;32m---> 72\u001b[0m         w \u001b[38;5;241m=\u001b[39m w \u001b[38;5;241m+\u001b[39m quantity \u001b[38;5;241m*\u001b[39m \u001b[43mobs\u001b[49m\u001b[38;5;241;43m.\u001b[39;49m\u001b[43mprice\u001b[49m\u001b[43m(\u001b[49m\u001b[43mtoken\u001b[49m\u001b[38;5;241;43m=\u001b[39;49m\u001b[43mtoken\u001b[49m\u001b[43m,\u001b[49m\u001b[43m \u001b[49m\u001b[43munit\u001b[49m\u001b[38;5;241;43m=\u001b[39;49m\u001b[43mpool_tokens\u001b[49m\u001b[43m[\u001b[49m\u001b[38;5;241;43m0\u001b[39;49m\u001b[43m]\u001b[49m\u001b[43m,\u001b[49m\u001b[43m \u001b[49m\u001b[43mpool\u001b[49m\u001b[38;5;241;43m=\u001b[39;49m\u001b[43mpool\u001b[49m\u001b[43m)\u001b[49m\n\u001b[1;32m     74\u001b[0m     out \u001b[38;5;241m=\u001b[39m w\n\u001b[1;32m     76\u001b[0m     \u001b[38;5;28;01mreturn\u001b[39;00m out\n",
      "File \u001b[0;32mdojo/observations/uniswapV3.py:885\u001b[0m, in \u001b[0;36mdojo.observations.uniswapV3.UniswapV3Observation.price\u001b[0;34m()\u001b[0m\n",
      "\u001b[0;31mValueError\u001b[0m: tuple.index(x): x not in tuple"
     ]
    }
   ],
   "source": [
    "backtest_run(\n",
    "    env=env,\n",
    "    policies=[policy],\n",
    "    dashboard_server_port=6666,\n",
    "    output_file=\"inflation.db\",\n",
    "    auto_close=True,\n",
    "    simulation_status_bar=True,\n",
    "    simulation_title=\"conors_secret_inflation_busting_policy\",\n",
    "    simulation_description=\"the secret to not loosing money.\",\n",
    "    )"
   ]
  },
  {
   "cell_type": "code",
   "execution_count": 16,
   "metadata": {},
   "outputs": [
    {
     "ename": "KeyError",
     "evalue": "'USDC'",
     "output_type": "error",
     "traceback": [
      "\u001b[0;31m---------------------------------------------------------------------------\u001b[0m",
      "\u001b[0;31mKeyError\u001b[0m                                  Traceback (most recent call last)",
      "Cell \u001b[0;32mIn[16], line 8\u001b[0m\n\u001b[1;32m      1\u001b[0m \u001b[38;5;66;03m#start_time = dateparser.parse(\"2024-06-20 00:00:00 UTC\")\u001b[39;00m\n\u001b[1;32m      2\u001b[0m \u001b[38;5;66;03m#env.agents[1].wealth(start_time,'USDC')\u001b[39;00m\n\u001b[1;32m      3\u001b[0m \n\u001b[1;32m      4\u001b[0m \n\u001b[1;32m      5\u001b[0m \u001b[38;5;66;03m#start_time\u001b[39;00m\n\u001b[1;32m      6\u001b[0m \u001b[38;5;66;03m#help(env.agents[1].wealth)\u001b[39;00m\n\u001b[0;32m----> 8\u001b[0m \u001b[43menv\u001b[49m\u001b[38;5;241;43m.\u001b[39;49m\u001b[43magents\u001b[49m\u001b[43m[\u001b[49m\u001b[38;5;241;43m1\u001b[39;49m\u001b[43m]\u001b[49m\u001b[38;5;241;43m.\u001b[39;49m\u001b[43merc20_wealth\u001b[49m\u001b[43m(\u001b[49m\u001b[43mdate\u001b[49m\u001b[43m \u001b[49m\u001b[38;5;241;43m=\u001b[39;49m\u001b[43m \u001b[49m\u001b[43mstart_time\u001b[49m\u001b[43m)\u001b[49m\n",
      "File \u001b[0;32mdojo/agents/base_agent.py:196\u001b[0m, in \u001b[0;36mdojo.agents.base_agent.BaseAgent.erc20_wealth\u001b[0;34m()\u001b[0m\n",
      "File \u001b[0;32mdojo/agents/base_agent.py:178\u001b[0m, in \u001b[0;36mdojo.agents.base_agent.BaseAgent._wealth\u001b[0;34m()\u001b[0m\n",
      "\u001b[0;31mKeyError\u001b[0m: 'USDC'"
     ]
    }
   ],
   "source": [
    "#start_time = dateparser.parse(\"2024-06-20 00:00:00 UTC\")\n",
    "#env.agents[1].wealth(start_time,'USDC')\n",
    "\n",
    "\n",
    "#start_time\n",
    "#help(env.agents[1].wealth)\n",
    "\n",
    "env.agents[1].erc20_wealth(date = start_time)\n",
    "\n"
   ]
  },
  {
   "cell_type": "code",
   "execution_count": 17,
   "metadata": {},
   "outputs": [
    {
     "data": {
      "text/plain": [
       "datetime.datetime"
      ]
     },
     "execution_count": 17,
     "metadata": {},
     "output_type": "execute_result"
    }
   ],
   "source": [
    "type(start_time)"
   ]
  }
 ],
 "metadata": {
  "kernelspec": {
   "display_name": ".venv",
   "language": "python",
   "name": "python3"
  },
  "language_info": {
   "codemirror_mode": {
    "name": "ipython",
    "version": 3
   },
   "file_extension": ".py",
   "mimetype": "text/x-python",
   "name": "python",
   "nbconvert_exporter": "python",
   "pygments_lexer": "ipython3",
   "version": "3.12.7"
  }
 },
 "nbformat": 4,
 "nbformat_minor": 2
}
