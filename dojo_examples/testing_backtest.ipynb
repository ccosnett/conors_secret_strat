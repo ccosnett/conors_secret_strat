{
 "cells": [
  {
   "cell_type": "code",
   "execution_count": 1,
   "metadata": {},
   "outputs": [
    {
     "name": "stderr",
     "output_type": "stream",
     "text": [
      "/Users/johncosnett/compass_labs/conors_secret_strat/.venv/lib/python3.12/site-packages/joblib/memory.py:577: JobLibCollisionWarning: Cannot detect name collisions for function '_load_data_for_pools'\n",
      "  return self._cached_call(args, kwargs, shelving=False)[0]\n"
     ]
    },
    {
     "name": "stdout",
     "output_type": "stream",
     "text": [
      "here\n"
     ]
    },
    {
     "name": "stderr",
     "output_type": "stream",
     "text": [
      "2024-10-26 20:12:29,470 - Dashboard will be available on dashboard_server_port=8888.\n",
      "2024-10-26 20:12:29,471 - Wait until the simulation has finished setup and is running to connect the dashboard to the simulation!\n",
      "\n",
      "2024-10-26 20:12:29,472 - =============== CONNECT NETWORK =============\n",
      "2024-10-26 20:12:29,899 - anvil --no-mining --host 127.0.0.1 --accounts 1 --balance 10000000000000000000 --chain-id 31337 --port 59347 --base-fee 0 --disable-block-gas-limit --ipc /tmp/anvil_59347.ipc --prune-history --order fifo --transaction-block-keeper 64\n",
      "2024-10-26 20:12:29,936 - ==========================================\n",
      "2024-10-26 20:12:29,937 - =============== SETUP CONTRACTS =============\n",
      "2024-10-26 20:12:30,007 - Deployed USDC at address 0x5FbDB2315678afecb367f032d93F642f64180aa3\n",
      "2024-10-26 20:12:30,026 - Deployed WETH at address 0x9fE46736679d2D9a65F0992F2272dE9f3c7fa6e0\n",
      "2024-10-26 20:12:30,053 - Deployed NonfungibleTokenPositionDescriptor at address 0xec3fBf694de486e62c81bAFf3CEea25eF2DcCeE2\n",
      "2024-10-26 20:12:30,109 - Deployed Factory at address 0x1F98431c8aD98523631AE4a59f267346ea31F984\n",
      "2024-10-26 20:12:30,143 - Deployed SwapRouter at address 0xE592427A0AEce92De3Edee1F18E0157C05861564\n",
      "2024-10-26 20:12:30,205 - Deployed NonfungiblePositionManager at address 0xC36442b4a4522E871399CD717aBDD847Ab11FE88\n",
      "2024-10-26 20:12:30,230 - Deployed USDC/WETH 0.05 pool at address 0x0231AAf405DEFa6c1dFaB5D45692B288A4ee3Bf6\n",
      "2024-10-26 20:12:30,236 - ==========================================\n",
      "2024-10-26 20:12:30,237 - ============== SETUP AGENTS ==============\n",
      "2024-10-26 20:12:30,240 - MarketAgent account: 0xDF78e07F03FE18d67B8FcEC69D06d0E138049ba5\n",
      "2024-10-26 20:12:30,248 - Funded 114645632908233855836763006616766466838033906502273760817076898996956153.511936 USDC from 0xf39Fd6e51aad88F6F4ce6aB8827279cffFb92266 to MarketAgent at address 0xDF78e07F03FE18d67B8FcEC69D06d0E138049ba5\n",
      "2024-10-26 20:12:30,255 - Funded 114645632908233855836763006616766466838033906502273760817076.898996956153511936 WETH from 0xf39Fd6e51aad88F6F4ce6aB8827279cffFb92266 to MarketAgent at address 0xDF78e07F03FE18d67B8FcEC69D06d0E138049ba5\n",
      "2024-10-26 20:12:30,265 - MarketAgent portfolio: {'USDC': Decimal('114645632908233855836763006616766466838033906502273760817076898996956153.511936'), 'WETH': Decimal('114645632908233855836763006616766466838033906502273760817076.898996956153511936'), 'ETH': Decimal('500000000')}\n",
      "2024-10-26 20:12:30,298 - TraderAgent account: 0x359f232a3e5cB7b1697A8A8fdD46568E9C6519C0\n",
      "2024-10-26 20:12:30,308 - Funded 10000 USDC from 0xf39Fd6e51aad88F6F4ce6aB8827279cffFb92266 to TraderAgent at address 0x359f232a3e5cB7b1697A8A8fdD46568E9C6519C0\n",
      "2024-10-26 20:12:30,314 - Funded 1 WETH from 0xf39Fd6e51aad88F6F4ce6aB8827279cffFb92266 to TraderAgent at address 0x359f232a3e5cB7b1697A8A8fdD46568E9C6519C0\n",
      "2024-10-26 20:12:30,320 - TraderAgent portfolio: {'ETH': Decimal('100'), 'USDC': Decimal('10000'), 'WETH': Decimal('1')}\n",
      "2024-10-26 20:12:30,343 - LPAgent account: 0x27A4577335C75813B4E8dEb817824F82Fe42002b\n",
      "2024-10-26 20:12:30,349 - Funded 10000 USDC from 0xf39Fd6e51aad88F6F4ce6aB8827279cffFb92266 to LPAgent at address 0x27A4577335C75813B4E8dEb817824F82Fe42002b\n",
      "2024-10-26 20:12:30,355 - Funded 1 WETH from 0xf39Fd6e51aad88F6F4ce6aB8827279cffFb92266 to LPAgent at address 0x27A4577335C75813B4E8dEb817824F82Fe42002b\n",
      "2024-10-26 20:12:30,365 - LPAgent portfolio: {'USDC': Decimal('10000'), 'WETH': Decimal('1'), 'ETH': Decimal('10')}\n",
      "2024-10-26 20:12:30,385 - ==========================================\n",
      "2024-10-26 20:12:30,385 - =============== INITIALIZE STATE =============\n",
      "USDC/WETH-0.05 initializing liquidity: 100%|██████████| 15147/15147 [00:10<00:00, 1399.09it/s]\n",
      "2024-10-26 20:13:10,758 - USDC/WETH-0.05 liquidity initialized\n",
      "2024-10-26 20:13:15,274 - USDC/WETH-0.05 price initialized\n",
      "2024-10-26 20:13:15,298 - ==========================================\n"
     ]
    },
    {
     "name": "stdout",
     "output_type": "stream",
     "text": [
      "here\n",
      "1\n"
     ]
    },
    {
     "ename": "KeyError",
     "evalue": "'ETH'",
     "output_type": "error",
     "traceback": [
      "\u001b[0;31m---------------------------------------------------------------------------\u001b[0m",
      "\u001b[0;31mKeyError\u001b[0m                                  Traceback (most recent call last)",
      "Cell \u001b[0;32mIn[1], line 66\u001b[0m\n\u001b[1;32m     60\u001b[0m passive_lp_policy \u001b[38;5;241m=\u001b[39m PassiveConcentratedLP(\n\u001b[1;32m     61\u001b[0m         agent\u001b[38;5;241m=\u001b[39magent2, lower_price_bound\u001b[38;5;241m=\u001b[39m\u001b[38;5;241m0.95\u001b[39m, upper_price_bound\u001b[38;5;241m=\u001b[39m\u001b[38;5;241m1.05\u001b[39m\n\u001b[1;32m     62\u001b[0m     )\n\u001b[1;32m     64\u001b[0m \u001b[38;5;28mprint\u001b[39m(\u001b[38;5;124m\"\u001b[39m\u001b[38;5;124mhere\u001b[39m\u001b[38;5;124m\"\u001b[39m)\n\u001b[0;32m---> 66\u001b[0m \u001b[43mbacktest_run\u001b[49m\u001b[43m(\u001b[49m\n\u001b[1;32m     67\u001b[0m \u001b[43m        \u001b[49m\u001b[43menv\u001b[49m\u001b[43m,\u001b[49m\n\u001b[1;32m     68\u001b[0m \u001b[43m        \u001b[49m\u001b[43m[\u001b[49m\u001b[43mmvag_policy\u001b[49m\u001b[43m,\u001b[49m\u001b[43m \u001b[49m\u001b[43mpassive_lp_policy\u001b[49m\u001b[43m]\u001b[49m\u001b[43m,\u001b[49m\n\u001b[1;32m     69\u001b[0m \u001b[43m        \u001b[49m\u001b[43mdashboard_server_port\u001b[49m\u001b[38;5;241;43m=\u001b[39;49m\u001b[43mdashboard_server_port\u001b[49m\u001b[43m,\u001b[49m\n\u001b[1;32m     70\u001b[0m \u001b[43m        \u001b[49m\u001b[43mauto_close\u001b[49m\u001b[38;5;241;43m=\u001b[39;49m\u001b[43mauto_close\u001b[49m\u001b[43m,\u001b[49m\n\u001b[1;32m     71\u001b[0m \u001b[43m        \u001b[49m\u001b[43msimulation_status_bar\u001b[49m\u001b[38;5;241;43m=\u001b[39;49m\u001b[43msimulation_status_bar\u001b[49m\u001b[43m,\u001b[49m\n\u001b[1;32m     72\u001b[0m \u001b[43m    \u001b[49m\u001b[43m)\u001b[49m\n\u001b[1;32m     73\u001b[0m     \u001b[38;5;66;03m# SNIPPET 1 END\u001b[39;00m\n",
      "File \u001b[0;32mdojo/runners/backtest_runner.py:59\u001b[0m, in \u001b[0;36mdojo.runners.backtest_runner.backtest_run\u001b[0;34m()\u001b[0m\n",
      "File \u001b[0;32mdojo/environments/base_environments.py:257\u001b[0m, in \u001b[0;36mdojo.environments.base_environments.BaseEnvironment.reset\u001b[0;34m()\u001b[0m\n",
      "File \u001b[0;32m~/compass_labs/conors_secret_strat/agents/uniswapV3_pool_wealth.py:33\u001b[0m, in \u001b[0;36mUniswapV3PoolWealthAgent.reward\u001b[0;34m(self, obs)\u001b[0m\n\u001b[1;32m     31\u001b[0m \u001b[38;5;28mprint\u001b[39m(\u001b[38;5;124m'\u001b[39m\u001b[38;5;124mhere\u001b[39m\u001b[38;5;124m'\u001b[39m)\n\u001b[1;32m     32\u001b[0m \u001b[38;5;28mprint\u001b[39m(\u001b[38;5;124m'\u001b[39m\u001b[38;5;124m1\u001b[39m\u001b[38;5;124m'\u001b[39m)\n\u001b[0;32m---> 33\u001b[0m \u001b[38;5;28mprint\u001b[39m(\u001b[38;5;28;43mself\u001b[39;49m\u001b[38;5;241;43m.\u001b[39;49m\u001b[43mwealth\u001b[49m\u001b[43m(\u001b[49m\u001b[43mdateparser\u001b[49m\u001b[38;5;241;43m.\u001b[39;49m\u001b[43mparse\u001b[49m\u001b[43m(\u001b[49m\u001b[38;5;124;43m\"\u001b[39;49m\u001b[38;5;124;43m2022-06-21 01:00:00 UTC\u001b[39;49m\u001b[38;5;124;43m\"\u001b[39;49m\u001b[43m)\u001b[49m\u001b[43m)\u001b[49m)\n\u001b[1;32m     34\u001b[0m \u001b[38;5;66;03m#print(self.wealth(obs.date))\u001b[39;00m\n\u001b[1;32m     35\u001b[0m \u001b[38;5;66;03m#w = self.wealth(obs.date)\u001b[39;00m\n\u001b[1;32m     36\u001b[0m \u001b[38;5;66;03m#print(w)\u001b[39;00m\n\u001b[1;32m     37\u001b[0m \n\u001b[1;32m     38\u001b[0m \u001b[38;5;66;03m# wealth expressed as token0 of the pool\u001b[39;00m\n\u001b[1;32m     39\u001b[0m wealth \u001b[38;5;241m=\u001b[39m Decimal(\u001b[38;5;241m0\u001b[39m)\n",
      "File \u001b[0;32mdojo/agents/base_agent.py:188\u001b[0m, in \u001b[0;36mdojo.agents.base_agent.BaseAgent.wealth\u001b[0;34m()\u001b[0m\n",
      "File \u001b[0;32mdojo/agents/base_agent.py:178\u001b[0m, in \u001b[0;36mdojo.agents.base_agent.BaseAgent._wealth\u001b[0;34m()\u001b[0m\n",
      "\u001b[0;31mKeyError\u001b[0m: 'ETH'"
     ]
    }
   ],
   "source": [
    "\n",
    "dashboard_server_port = 8888\n",
    "simulation_status_bar = True\n",
    "auto_close = True\n",
    "\n",
    "\n",
    "\n",
    "import logging\n",
    "from datetime import datetime, timedelta\n",
    "run_length = timedelta(hours=2)\n",
    "from decimal import Decimal\n",
    "from typing import Any, Optional\n",
    "\n",
    "from agents.uniswapV3_pool_wealth import UniswapV3PoolWealthAgent\n",
    "from dateutil import parser as dateparser\n",
    "from examples.moving_averages.policy import MovingAveragePolicy\n",
    "from policies.passiveLP import PassiveConcentratedLP\n",
    "\n",
    "from dojo.common.constants import Chain\n",
    "from dojo.environments import UniswapV3Env\n",
    "from dojo.runners import backtest_run\n",
    "\n",
    "logging.basicConfig(format=\"%(asctime)s - %(message)s\", level=logging.INFO) # is missing\n",
    "\n",
    "\n",
    "# SNIPPET 1 START\n",
    "pools = [\"USDC/WETH-0.05\"]\n",
    "start_time = dateparser.parse(\"2022-06-21 00:00:00 UTC\")\n",
    "end_time = start_time + run_length\n",
    "\n",
    "    # Agents\n",
    "agent1 = UniswapV3PoolWealthAgent(\n",
    "        initial_portfolio={\n",
    "            \"ETH\": Decimal(100),\n",
    "            \"USDC\": Decimal(10_000),\n",
    "            \"WETH\": Decimal(1),\n",
    "        },\n",
    "        name=\"TraderAgent\",\n",
    "    )\n",
    "\n",
    "agent2 = UniswapV3PoolWealthAgent(\n",
    "        initial_portfolio={\"USDC\": Decimal(10_000), \"WETH\": Decimal(1)},\n",
    "        name=\"LPAgent\",\n",
    "    )\n",
    "\n",
    "    # Simulation environment (Uniswap V3)\n",
    "env = UniswapV3Env(\n",
    "        chain=Chain.ETHEREUM,\n",
    "        date_range=(start_time, end_time),\n",
    "        agents=[agent1, agent2],\n",
    "        pools=pools,\n",
    "        backend_type=\"local\",\n",
    "        market_impact=\"replay\",\n",
    "    )\n",
    "\n",
    "    # Policies\n",
    "mvag_policy = MovingAveragePolicy(\n",
    "        agent=agent1, pool=\"USDC/WETH-0.05\", short_window=25, long_window=100\n",
    "    )\n",
    "\n",
    "passive_lp_policy = PassiveConcentratedLP(\n",
    "        agent=agent2, lower_price_bound=0.95, upper_price_bound=1.05\n",
    "    )\n",
    "\n",
    "print(\"here\")\n",
    "\n",
    "backtest_run(\n",
    "        env,\n",
    "        [mvag_policy, passive_lp_policy],\n",
    "        dashboard_server_port=dashboard_server_port,\n",
    "        auto_close=auto_close,\n",
    "        simulation_status_bar=simulation_status_bar,\n",
    "    )\n",
    "    # SNIPPET 1 END"
   ]
  },
  {
   "cell_type": "code",
   "execution_count": 11,
   "metadata": {},
   "outputs": [
    {
     "ename": "KeyError",
     "evalue": "'ETH'",
     "output_type": "error",
     "traceback": [
      "\u001b[0;31m---------------------------------------------------------------------------\u001b[0m",
      "\u001b[0;31mKeyError\u001b[0m                                  Traceback (most recent call last)",
      "Cell \u001b[0;32mIn[11], line 4\u001b[0m\n\u001b[1;32m      1\u001b[0m \u001b[38;5;66;03m#env.agents[0].wealth(start_time)\u001b[39;00m\n\u001b[1;32m      2\u001b[0m \n\u001b[1;32m      3\u001b[0m \u001b[38;5;66;03m#env.agents[0].wealth(end_time)\u001b[39;00m\n\u001b[0;32m----> 4\u001b[0m \u001b[43menv\u001b[49m\u001b[38;5;241;43m.\u001b[39;49m\u001b[43magents\u001b[49m\u001b[43m[\u001b[49m\u001b[38;5;241;43m1\u001b[39;49m\u001b[43m]\u001b[49m\u001b[38;5;241;43m.\u001b[39;49m\u001b[43mwealth\u001b[49m\u001b[43m(\u001b[49m\u001b[43mend_time\u001b[49m\u001b[43m)\u001b[49m\n\u001b[1;32m      5\u001b[0m \u001b[38;5;66;03m#env.agents[2].wealth(end_time)\u001b[39;00m\n\u001b[1;32m      7\u001b[0m env\u001b[38;5;241m.\u001b[39magents[\u001b[38;5;241m1\u001b[39m]\u001b[38;5;241m.\u001b[39merc20_wealth(end_time)\n",
      "File \u001b[0;32mdojo/agents/base_agent.py:188\u001b[0m, in \u001b[0;36mdojo.agents.base_agent.BaseAgent.wealth\u001b[0;34m()\u001b[0m\n",
      "File \u001b[0;32mdojo/agents/base_agent.py:178\u001b[0m, in \u001b[0;36mdojo.agents.base_agent.BaseAgent._wealth\u001b[0;34m()\u001b[0m\n",
      "\u001b[0;31mKeyError\u001b[0m: 'ETH'"
     ]
    }
   ],
   "source": [
    "#env.agents[0].wealth(start_time)\n",
    "\n",
    "#env.agents[0].wealth(end_time)\n",
    "env.agents[1].wealth(end_time)\n",
    "#env.agents[2].wealth(end_time)\n",
    "\n",
    "env.agents[1].erc20_wealth(end_time)"
   ]
  }
 ],
 "metadata": {
  "kernelspec": {
   "display_name": ".venv",
   "language": "python",
   "name": "python3"
  },
  "language_info": {
   "codemirror_mode": {
    "name": "ipython",
    "version": 3
   },
   "file_extension": ".py",
   "mimetype": "text/x-python",
   "name": "python",
   "nbconvert_exporter": "python",
   "pygments_lexer": "ipython3",
   "version": "3.12.7"
  }
 },
 "nbformat": 4,
 "nbformat_minor": 2
}
